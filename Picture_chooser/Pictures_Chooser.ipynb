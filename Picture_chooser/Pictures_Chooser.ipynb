{
 "cells": [
  {
   "cell_type": "code",
   "execution_count": null,
   "metadata": {},
   "outputs": [],
   "source": [
    "from bs4 import BeautifulSoup\n",
    "import pandas as pd\n",
    "import numpy as np\n",
    "import zipfile\n",
    "import urllib.request\n",
    "import os\n",
    "import matplotlib.pyplot as plt\n",
    "import shutil\n",
    "from PIL import Image, ImageDraw\n",
    "import random\n",
    "import re"
   ]
  },
  {
   "cell_type": "markdown",
   "metadata": {},
   "source": [
    "# Création Metadata DataFrame\n",
    "Etape intermédiaire: dézipper le csv fourni"
   ]
  },
  {
   "cell_type": "code",
   "execution_count": null,
   "metadata": {},
   "outputs": [],
   "source": [
    "all_df = pd.read_csv(\"data/202001-rma-csv-collection.csv\")\n",
    "\n",
    "all_df = all_df.rename(columns =\n",
    "                       {\"objectInventoryNumber\":\"inventoryNumber\",\"objectPersistentIdentifier\":\"identifier\",\n",
    "                        \"objectTitle[1]\":\"title\",\"objectType[1]\":\"type\",\"objectCreator[1]\":\"creator\",\n",
    "                        \"objectCreationDate[1]\":\"creationDate\",\"objectImage\":\"imageUrl\"})\n",
    "\n",
    "art_types = list(all_df[\"type\"].drop_duplicates())\n",
    "\n",
    "paintings_df = all_df[all_df.type == \"schilderij\"]"
   ]
  },
  {
   "cell_type": "markdown",
   "metadata": {},
   "source": [
    "# Get images from the web\n",
    "\n",
    "Peut prendre du temps. On peut voir la progression en checkant le nombre d'images dans le dossier rijk_images"
   ]
  },
  {
   "cell_type": "code",
   "execution_count": null,
   "metadata": {},
   "outputs": [],
   "source": [
    "def get_image(persistentID, url, path):\n",
    "    if not os.path.exists(path):\n",
    "                urllib.request.urlretrieve(url,path)"
   ]
  },
  {
   "cell_type": "code",
   "execution_count": null,
   "metadata": {},
   "outputs": [],
   "source": [
    "paintings_images_df = paintings_df[[\"identifier\",\"imageUrl\"]].dropna()\n",
    "\n",
    "paintings_images_df.apply(lambda row: get_image(row.identifier, row.imageUrl,\"data/images_rijk/{}.jpg\"\\\n",
    "                             .format(row.identifier.split(\".\")[-1])), axis = 1)\n",
    "\n",
    "paintings_images_df[\"image_identifier\"] = paintings_images_df.identifier.apply(lambda i : int(i.split(\".\")[-1]))"
   ]
  },
  {
   "cell_type": "code",
   "execution_count": null,
   "metadata": {},
   "outputs": [],
   "source": [
    "full_paintings_df = paintings_df.join(paintings_images_df[\"image_identifier\"], how = \"inner\")"
   ]
  },
  {
   "cell_type": "markdown",
   "metadata": {},
   "source": [
    "# Préparation pour choix avant détection de pose"
   ]
  },
  {
   "cell_type": "code",
   "execution_count": null,
   "metadata": {},
   "outputs": [],
   "source": [
    "def decide_picture_before(identifier):\n",
    "        \n",
    "    path = \"data/images_rijk/{}.jpg\".format(identifier)\n",
    "    \n",
    "    im = Image.open(path)\n",
    "    \n",
    "    plt.figure(figsize = (5,5))\n",
    "    plt.imshow(np.asarray(im))\n",
    "    plt.show()\n",
    "    \n",
    "    answer = input(\"Keep ? (y/n)\")\n",
    "    \n",
    "    plt.clf()\n",
    "    \n",
    "    if answer in [\"yes\",\"y\",\"oui\",\"1\"]:\n",
    "        shutil.copyfile(path, \"data/images_rijk_selected_before/{}.jpg\".format(identifier))\n",
    "        return 1\n",
    "    \n",
    "    if answer ==  \"break\":\n",
    "        return \"break\"\n",
    "    \n",
    "    else:\n",
    "        return 0"
   ]
  },
  {
   "cell_type": "code",
   "execution_count": null,
   "metadata": {},
   "outputs": [],
   "source": [
    "# Préparation et sauvegarde du dataFrame sans les indications de sélection\n",
    "full_paintings_df[\"selected_before\"] = np.nan\n",
    "full_paintings_df[\"selected_after\"] = np.nan\n",
    "full_paintings_df.to_csv(\"data/raw_full_paintings_df.csv\")"
   ]
  },
  {
   "cell_type": "markdown",
   "metadata": {},
   "source": [
    "Etape intermédiaire: renommer raw_full_paintings_df.csv en partial_selected_full_paintings_df.csv ou réutiliser le csv déjà fourni"
   ]
  },
  {
   "cell_type": "markdown",
   "metadata": {},
   "source": [
    "# Choix avant "
   ]
  },
  {
   "cell_type": "markdown",
   "metadata": {},
   "source": [
    "Fonctionnement:\n",
    "- Avant les choix, le csv partial_selected_full_paintings_df.csv est chargé\n",
    "- Durant le choix, si y, selected_before est mis à 1 dans la row de l'image, sinon mis à 0\n",
    "- Si y, l'image est copiée dans un nouveau dossier image_rijk_selected_before.\n",
    "- Pour interrompre la boucle de choix sans générer d'exception, taper \"break\"\n",
    "- Après avoir interrompu la boucle, exécuter la deuxième cellule pour sauvegarder partial_selected_full_paintings_df.csv\n",
    "- Reéxécuter la première cellule pour reprendre le choix là où on l'a laissé."
   ]
  },
  {
   "cell_type": "code",
   "execution_count": null,
   "metadata": {},
   "outputs": [],
   "source": [
    "full_paintings_df = pd.read_csv(\"data/partial_selected_full_paintings_df.csv\")\n",
    "\n",
    "for i, row in full_paintings_df.iterrows():\n",
    "    if (row[\"selected_before\"] != 0 and row[\"selected_before\"] != 1):\n",
    "        \n",
    "        answer = decide_picture_before(row[\"image_identifier\"])\n",
    "        \n",
    "        if answer == \"break\":\n",
    "            break\n",
    "        else:\n",
    "            full_paintings_df.set_value(i,'selected_before',answer)\n",
    "\n",
    "#sauvegarde de sécurité du dataFrame à la fin de la session de choix\n",
    "full_paintings_df.to_csv(\"data/temp/temp_{}.csv\".format(random.randint(0,1e10)))"
   ]
  },
  {
   "cell_type": "code",
   "execution_count": null,
   "metadata": {},
   "outputs": [],
   "source": [
    "#Sauvegarde de l'état actuel\n",
    "full_paintings_df.to_csv(\"data/partial_selected_full_paintings_df.csv\")"
   ]
  },
  {
   "cell_type": "markdown",
   "metadata": {},
   "source": [
    "# Préparation choix après"
   ]
  },
  {
   "cell_type": "markdown",
   "metadata": {},
   "source": [
    "Etape intermédiaire: appliquer avec runwayML l'algo de détection de pose aux images de rijk_selected_images. Séparer en batches d'une huitantaine d'images s'il y en a trop dans le dossier.\n",
    "\n",
    "Grouper les résultats dans un fichier dont on spécifie le nom et la localisation juste en dessous."
   ]
  },
  {
   "cell_type": "code",
   "execution_count": null,
   "metadata": {},
   "outputs": [],
   "source": [
    "JSON_NAME = \"data/rijk.json\""
   ]
  },
  {
   "cell_type": "code",
   "execution_count": null,
   "metadata": {},
   "outputs": [],
   "source": [
    "def parse_posenet_json(df, json_name, normalise_function = lambda x: x):\n",
    "    \n",
    "    with open(json_name,\"r\") as json:\n",
    "        \n",
    "        text = json.read()\n",
    "        \n",
    "        dics = []\n",
    "        \n",
    "        for item in eval(text):\n",
    "            image_name = item.get(\"filename\")\n",
    "            \n",
    "            image_id = int(re.match(\"\\d+\",image_name).group())\n",
    "            \n",
    "            poses = item.get(\"poses\")\n",
    "            \n",
    "            normalized_poses = list(map(normalise_function, poses))\n",
    "            \n",
    "            dics.append({\"image_identifier\":image_id, \"poses\":poses, \"norm_poses\":normalized_poses})\n",
    "    \n",
    "    \n",
    "    return df.merge(pd.DataFrame(dics), on = \"image_identifier\")"
   ]
  },
  {
   "cell_type": "code",
   "execution_count": null,
   "metadata": {},
   "outputs": [],
   "source": [
    "def decide_picture_after(poses, identifier):\n",
    "    \n",
    "    path = \"data/images_rijk_selected_before/{}.jpg\".format(identifier)\n",
    "    \n",
    "    im = Image.open(path)\n",
    "    \n",
    "    c = 0\n",
    "    colors = [\"red\",\"yellow\",\"green\",\"blue\",\"grey\"]\n",
    "    for pose in poses:\n",
    "        \n",
    "        color = colors[c]\n",
    "        \n",
    "        width, height = im.size\n",
    "\n",
    "        draw = ImageDraw.Draw(im)\n",
    "        \n",
    "        pose = list(map(lambda tup : (width*tup[0], height*tup[1]), pose))\n",
    "        \n",
    "        for point in pose[:5]:\n",
    "            x = point[0]\n",
    "            y = point[1]\n",
    "            r = 5\n",
    "            draw.ellipse([x-r,y-r,x+r,y+r],color,color)\n",
    "\n",
    "        for i in (5,6,11,12):\n",
    "            draw.line([(pose[i][0],pose[i][1]),(pose[i+2][0],pose[i+2][1]),(pose[i+4][0],pose[i+4][1])],\n",
    "                      fill = color, width = 5)\n",
    "        \n",
    "        c += 1\n",
    "        \n",
    "    plt.figure(figsize = (10,10))\n",
    "    plt.imshow(np.asarray(im))\n",
    "    plt.show()\n",
    "    \n",
    "    answer = input(\"Keep ? (y/n)\")\n",
    "    \n",
    "    plt.clf()\n",
    "    \n",
    "    if answer in [\"y\",\"yes\",\"oui\",1]:\n",
    "        shutil.copyfile(path, \"data/images_rijk_selected_after/{}.jpg\".format(identifier))\n",
    "        return 1\n",
    "    \n",
    "    if answer ==  \"break\":\n",
    "        return \"break\"\n",
    "\n",
    "    return 0"
   ]
  },
  {
   "cell_type": "code",
   "execution_count": null,
   "metadata": {},
   "outputs": [],
   "source": [
    "poses_paintings_df = parse_posenet_json(full_paintings_df, JSON_NAME)"
   ]
  },
  {
   "cell_type": "code",
   "execution_count": null,
   "metadata": {},
   "outputs": [],
   "source": [
    "poses_paintings_df.to_csv(\"data/final_selected_full_paintings_df.csv\")"
   ]
  },
  {
   "cell_type": "markdown",
   "metadata": {},
   "source": [
    "# Choix après"
   ]
  },
  {
   "cell_type": "markdown",
   "metadata": {},
   "source": [
    "Fonctionnement:\n",
    "- Avant les choix, le csv final_selected_full_paintings_df.csv est chargé\n",
    "- Durant le choix, si y, selected_after est mis à 1 dans la row de l'image, sinon mis à 0\n",
    "- Si y, l'image est copiée dans un nouveau dossier image_rijk_selected_after.\n",
    "- Pour interrompre la boucle de choix sans générer d'exception, taper \"break\"\n",
    "- Après avoir interrompu la boucle, exécuter la deuxième cellule pour sauvegarder final_selected_full_paintings_df.csv\n",
    "- Reéxécuter la première cellule pour reprendre le choix là où on l'a laissé."
   ]
  },
  {
   "cell_type": "code",
   "execution_count": null,
   "metadata": {},
   "outputs": [],
   "source": [
    "poses_paintings_df = pd.read_csv(\"data/final_selected_full_paintings_df.csv\")\n",
    "\n",
    "for i, row in poses_paintings_df.iterrows():\n",
    "    if (row[\"selected_before\"] == 1 and row[\"selected_after\"] != 0 and row[\"selected_after\"] != 1):\n",
    "        \n",
    "        answer = decide_picture_after(eval(row[\"poses\"]),row[\"image_identifier\"])\n",
    "        \n",
    "        if answer == \"break\":\n",
    "            break\n",
    "        else:\n",
    "            full_paintings_df.set_value(i,'selected_after',answer)\n",
    "\n",
    "#sauvegarde de sécurité du dataFrame à la fin de la session de choix\n",
    "poses_paintings_df.to_csv(\"data/temp/temp_{}.csv\".format(random.randint(0,1e10)))"
   ]
  },
  {
   "cell_type": "code",
   "execution_count": null,
   "metadata": {},
   "outputs": [],
   "source": [
    "#Sauvegarde de l'état actuel\n",
    "poses_paintings_df.to_csv(\"data/final_selected_full_paintings_df.csv\")"
   ]
  },
  {
   "cell_type": "code",
   "execution_count": null,
   "metadata": {},
   "outputs": [],
   "source": []
  }
 ],
 "metadata": {
  "kernelspec": {
   "display_name": "Python 3",
   "language": "python",
   "name": "python3"
  },
  "language_info": {
   "codemirror_mode": {
    "name": "ipython",
    "version": 3
   },
   "file_extension": ".py",
   "mimetype": "text/x-python",
   "name": "python",
   "nbconvert_exporter": "python",
   "pygments_lexer": "ipython3",
   "version": "3.7.4"
  }
 },
 "nbformat": 4,
 "nbformat_minor": 2
}
