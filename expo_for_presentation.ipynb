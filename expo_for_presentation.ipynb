{
 "cells": [
  {
   "cell_type": "code",
   "execution_count": null,
   "metadata": {},
   "outputs": [],
   "source": [
    "from bs4 import BeautifulSoup\n",
    "import pandas as pd\n",
    "import numpy as np\n",
    "import zipfile\n",
    "import urllib.request\n",
    "import os\n",
    "import matplotlib.pyplot as plt\n",
    "import shutil\n",
    "from PIL import Image, ImageDraw\n",
    "import random\n",
    "import re\n",
    "from scipy import spatial"
   ]
  },
  {
   "cell_type": "code",
   "execution_count": null,
   "metadata": {},
   "outputs": [],
   "source": [
    "def normalize_posenet_vector(vecteur):\n",
    "    \n",
    "    x_components, y_components = zip(*vecteur)\n",
    "    \n",
    "    x_components, y_components = np.array(x_components), np.array(y_components)\n",
    "    \n",
    "    \n",
    "    max_amplitude = max(max(x_components)-min(x_components),max(y_components)-min(y_components))\n",
    "    \n",
    "    amplification_factor = 1/max_amplitude\n",
    "    \n",
    "    x_components = amplification_factor*x_components\n",
    "    y_components = amplification_factor*y_components\n",
    "    \n",
    "    def mean_extrema(array):\n",
    "        return np.mean((max(array),min(array)))\n",
    "    \n",
    "    x_components, y_components =\\\n",
    "    x_components-mean_extrema(x_components) + 1/2, y_components-mean_extrema(y_components) + 1/2\n",
    "    \n",
    "    return list(zip(x_components, y_components))"
   ]
  },
  {
   "cell_type": "code",
   "execution_count": null,
   "metadata": {},
   "outputs": [],
   "source": [
    "def parse_posenet_json(df, json_name, normalise_function = lambda x: x):\n",
    "    \n",
    "    with open(json_name,\"r\") as json:\n",
    "        \n",
    "        text = json.read()\n",
    "        \n",
    "        dics = []\n",
    "        \n",
    "        for item in eval(text):\n",
    "            image_name = item.get(\"filename\")\n",
    "            \n",
    "            image_id = int(re.match(\"\\d+\",image_name).group())\n",
    "            \n",
    "            poses = item.get(\"poses\")\n",
    "            \n",
    "            normalized_poses = list(map(normalise_function, poses))\n",
    "            \n",
    "            dics.append({\"image_identifier\":image_id, \"poses\":poses, \"norm_poses\":normalized_poses})\n",
    "    \n",
    "    \n",
    "    return df.merge(pd.DataFrame(dics), on = \"image_identifier\")"
   ]
  },
  {
   "cell_type": "code",
   "execution_count": null,
   "metadata": {},
   "outputs": [],
   "source": [
    "full_paintings_df = pd.read_csv(\"data/partial_selected_full_paintings_df.csv\")"
   ]
  },
  {
   "cell_type": "code",
   "execution_count": null,
   "metadata": {},
   "outputs": [],
   "source": [
    "full_paintings_df = parse_posenet_json(full_paintings_df, \"rijk_sample_expo/expo_rijk_posenet.json\")\\\n",
    ".dropna(subset = [\"poses\"])"
   ]
  },
  {
   "cell_type": "code",
   "execution_count": null,
   "metadata": {},
   "outputs": [],
   "source": [
    "full_paintings_df"
   ]
  },
  {
   "cell_type": "code",
   "execution_count": null,
   "metadata": {},
   "outputs": [],
   "source": [
    "def show_pictures(poses, identifier, verbose = True):\n",
    "    \n",
    "    path = \"rijk_sample_expo/{}.jpg\".format(identifier)\n",
    "    \n",
    "    im = Image.open(path)\n",
    "    \n",
    "    if verbose:\n",
    "        c = 0\n",
    "        colors = [\"red\",\"yellow\",\"green\",\"blue\",\"grey\"]\n",
    "        for pose in poses:\n",
    "\n",
    "            color = colors[c]\n",
    "\n",
    "            width, height = im.size\n",
    "\n",
    "            draw = ImageDraw.Draw(im)\n",
    "\n",
    "            pose = list(map(lambda tup : (width*tup[0], height*tup[1]), pose))\n",
    "\n",
    "            for point in pose[:5]:\n",
    "                x = point[0]\n",
    "                y = point[1]\n",
    "                r = 5\n",
    "                draw.ellipse([x-r,y-r,x+r,y+r],color,color)\n",
    "\n",
    "            for i in (5,6,11,12):\n",
    "                draw.line([(pose[i][0],pose[i][1]),(pose[i+2][0],pose[i+2][1]),(pose[i+4][0],pose[i+4][1])],\n",
    "                          fill = color, width = 5)\n",
    "\n",
    "            c += 1\n",
    "    \n",
    "    plt.figure(figsize = (10,10))\n",
    "    plt.imshow(np.asarray(im))\n",
    "    plt.show()"
   ]
  },
  {
   "cell_type": "code",
   "execution_count": null,
   "metadata": {
    "scrolled": true
   },
   "outputs": [],
   "source": [
    "full_paintings_df.apply(lambda row: show_pictures(row[\"poses\"],row[\"image_identifier\"]), axis = 1)"
   ]
  },
  {
   "cell_type": "code",
   "execution_count": null,
   "metadata": {},
   "outputs": [],
   "source": [
    "def compare_poses(pose1, pose2):\n",
    "    return 1 - spatial.distance.cosine(np.array(pose1).flatten(),np.array(pose2).flatten())\n",
    "\n",
    "def max_similarity(pose1, list_poses):\n",
    "    return max(map(lambda p: compare_poses(pose1, p), list_poses))"
   ]
  },
  {
   "cell_type": "markdown",
   "metadata": {},
   "source": [
    "# Show N best matchs for 3 test pictures"
   ]
  },
  {
   "cell_type": "code",
   "execution_count": null,
   "metadata": {},
   "outputs": [],
   "source": [
    "N_RESULTS_TO_SHOW = 5\n",
    "\n",
    "with open(\"rijk_sample_expo/inputs/inputs.json\") as input_json:\n",
    "    \n",
    "    poses_dicts = eval(input_json.read())\n",
    "    \n",
    "    for filename in os.listdir(\"rijk_sample_expo/inputs\"):\n",
    "        if filename.endswith(\"jpg\"):\n",
    "            im = Image.open(\"rijk_sample_expo/inputs/{}\".format(filename))\n",
    "\n",
    "            pose1 = None\n",
    "            for item in poses_dicts:\n",
    "                if item.get(\"filename\") == filename:\n",
    "                    pose1 = normalize_posenet_vector(item.get(\"poses\")[0])\n",
    "            \n",
    "            similarities = full_paintings_df[\"norm_poses\"].apply(lambda poses: max_similarity(pose1, poses))\n",
    "\n",
    "            ranked_df = full_paintings_df.join(similarities, lsuffix='_caller', rsuffix='_other')\\\n",
    "            .sort_values(by = \"norm_poses_other\", ascending = False)\n",
    "            \n",
    "            plt.figure(figsize = (10,10))\n",
    "            plt.imshow(np.asarray(im))\n",
    "            plt.show()\n",
    "            \n",
    "            for _, row in ranked_df.head(N_RESULTS_TO_SHOW).iterrows():\n",
    "                show_pictures(row[\"poses\"],row[\"image_identifier\"], verbose = False)\n",
    "\n",
    "            "
   ]
  },
  {
   "cell_type": "code",
   "execution_count": null,
   "metadata": {},
   "outputs": [],
   "source": []
  }
 ],
 "metadata": {
  "kernelspec": {
   "display_name": "Python 3",
   "language": "python",
   "name": "python3"
  },
  "language_info": {
   "codemirror_mode": {
    "name": "ipython",
    "version": 3
   },
   "file_extension": ".py",
   "mimetype": "text/x-python",
   "name": "python",
   "nbconvert_exporter": "python",
   "pygments_lexer": "ipython3",
   "version": "3.7.4"
  }
 },
 "nbformat": 4,
 "nbformat_minor": 2
}
