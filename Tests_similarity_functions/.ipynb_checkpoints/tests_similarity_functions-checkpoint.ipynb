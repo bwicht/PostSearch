{
 "cells": [
  {
   "cell_type": "code",
   "execution_count": null,
   "metadata": {},
   "outputs": [],
   "source": [
    "from bs4 import BeautifulSoup\n",
    "import pandas as pd\n",
    "import numpy as np\n",
    "import zipfile\n",
    "import urllib.request\n",
    "import os\n",
    "import matplotlib.pyplot as plt\n",
    "import shutil\n",
    "from PIL import Image, ImageDraw\n",
    "import random\n",
    "import re\n",
    "from scipy import spatial"
   ]
  },
  {
   "cell_type": "markdown",
   "metadata": {},
   "source": [
    "# General Helper functions"
   ]
  },
  {
   "cell_type": "code",
   "execution_count": null,
   "metadata": {},
   "outputs": [],
   "source": [
    "def normalize_posenet_vector(vecteur):\n",
    "    \n",
    "    x_components, y_components = zip(*vecteur)\n",
    "    \n",
    "    x_components, y_components = np.array(x_components), np.array(y_components)\n",
    "    \n",
    "    \n",
    "    max_amplitude = max(max(x_components)-min(x_components),max(y_components)-min(y_components))\n",
    "    \n",
    "    amplification_factor = 1/max_amplitude\n",
    "    \n",
    "    x_components = amplification_factor*x_components\n",
    "    y_components = amplification_factor*y_components\n",
    "    \n",
    "    def mean_extrema(array):\n",
    "        return np.mean((max(array),min(array)))\n",
    "    \n",
    "    x_components, y_components =\\\n",
    "    x_components-mean_extrema(x_components) + 1/2, y_components-mean_extrema(y_components) + 1/2\n",
    "    \n",
    "    return list(zip(x_components, y_components))"
   ]
  },
  {
   "cell_type": "code",
   "execution_count": null,
   "metadata": {},
   "outputs": [],
   "source": [
    "def create_json_df(directory_path, json_name, normalise_function):\n",
    "    \n",
    "    rows = []\n",
    "    \n",
    "    with open(json_name, \"r\") as json:\n",
    "        \n",
    "        text = json.read()\n",
    "        \n",
    "        rows = []\n",
    "        \n",
    "        for item in eval(text):\n",
    "            image_name = item.get(\"filename\")\n",
    "            \n",
    "            image_id = int(re.match(\"\\d+\",image_name).group())\n",
    "            \n",
    "            poses = item.get(\"poses\")\n",
    "            \n",
    "            normalized_poses = list(map(normalise_function, poses))\n",
    "            \n",
    "            if os.path.exists(directory_path+\"/\"+image_name):           \n",
    "                rows.append({\"image_identifer\":image_id,\\\n",
    "                             \"image_name\": image_name, \"poses\":poses, \"norm_poses\":normalized_poses})\n",
    "    \n",
    "    return pd.DataFrame(rows)"
   ]
  },
  {
   "cell_type": "code",
   "execution_count": null,
   "metadata": {},
   "outputs": [],
   "source": [
    "def show_pictures(poses, name, directory_path, verbose = True):\n",
    "    \n",
    "    path = directory_path+\"/\"+name\n",
    "    \n",
    "    im = Image.open(path)\n",
    "    \n",
    "    if verbose:\n",
    "        c = 0\n",
    "        colors = [\"red\",\"yellow\",\"green\",\"blue\",\"grey\"]\n",
    "        for pose in poses:\n",
    "\n",
    "            color = colors[c]\n",
    "\n",
    "            width, height = im.size\n",
    "\n",
    "            draw = ImageDraw.Draw(im)\n",
    "\n",
    "            pose = list(map(lambda tup : (width*tup[0], height*tup[1]), pose))\n",
    "\n",
    "            for point in pose[:5]:\n",
    "                x = point[0]\n",
    "                y = point[1]\n",
    "                r = 5\n",
    "                draw.ellipse([x-r,y-r,x+r,y+r],color,color)\n",
    "\n",
    "            for i in (5,6,11,12):\n",
    "                draw.line([(pose[i][0],pose[i][1]),(pose[i+2][0],pose[i+2][1]),(pose[i+4][0],pose[i+4][1])],\n",
    "                          fill = color, width = 5)\n",
    "\n",
    "            c += 1\n",
    "    \n",
    "    plt.figure(figsize = (10,10))\n",
    "    plt.imshow(np.asarray(im))\n",
    "    plt.show()"
   ]
  },
  {
   "cell_type": "code",
   "execution_count": null,
   "metadata": {},
   "outputs": [],
   "source": [
    "df = create_local_df(\"images_sample\", \"rijk.json\", normalize_posenet_vector)"
   ]
  },
  {
   "cell_type": "code",
   "execution_count": null,
   "metadata": {},
   "outputs": [],
   "source": [
    "#df.apply(lambda row: show_pictures(row[\"poses\"],row[\"image_name\"], \"images_sample\"), axis = 1)"
   ]
  },
  {
   "cell_type": "markdown",
   "metadata": {},
   "source": [
    "# Angular similarity"
   ]
  },
  {
   "cell_type": "code",
   "execution_count": null,
   "metadata": {},
   "outputs": [],
   "source": [
    "def divergence(pose1, pose2, fcompare, flist):\n",
    "    \n",
    "    acc = 0\n",
    "    \n",
    "    for f in flist:\n",
    "        acc += fcompare(f(pose1),f(pose2))\n",
    "        \n",
    "    return acc\n",
    "\n",
    "def min_divergence(pose1, pose_list, fcompare, flist):\n",
    "    \n",
    "    current_min = np.Infinity\n",
    "    \n",
    "    for pose in pose_list:\n",
    "        current_min = min(current_min, divergence(pose1,pose,fcompare,flist))\n",
    "        \n",
    "    return current_min"
   ]
  },
  {
   "cell_type": "code",
   "execution_count": null,
   "metadata": {},
   "outputs": [],
   "source": [
    "def fcompare_absolute_divergence(v1,v2):\n",
    "    return abs(v1-v2)"
   ]
  },
  {
   "cell_type": "code",
   "execution_count": null,
   "metadata": {},
   "outputs": [],
   "source": [
    "def angle_to_horizontal(tup1,tup2):\n",
    "    \"\"\"Return the angle to horizontal for a vector bounded by points tup1 and tup2\"\"\"\n",
    "    vector = np.array(tup2)-np.array(tup1)\n",
    "    \n",
    "    if vector[0] != 0:\n",
    "        return np.arctan(vector[1]/vector[0])\n",
    "    else:\n",
    "        return np.arctan(vector[1]*np.Infinity)\n",
    "    "
   ]
  },
  {
   "cell_type": "code",
   "execution_count": null,
   "metadata": {},
   "outputs": [],
   "source": [
    "LEFT_HUMERUS = (5,7)\n",
    "RIGHT_HUMERUS = (6,8)\n",
    "LEFT_FOREARM = (7,9)\n",
    "RIGHT_FOREARM = (8,10)\n",
    "\n",
    "LEFT_THIGH = (11,13)\n",
    "RIGHT_THIGH = (12,14)\n",
    "LEFT_SHIN = (13,15)\n",
    "RIGHT_SHIN = (14,16)\n",
    "\n",
    "SHOULDERS = (5,6)\n",
    "LEFT_SIDE = (5,11)\n",
    "RIGHT_SIDE = (6,12)\n",
    "PELVIS = (11,12)"
   ]
  },
  {
   "cell_type": "code",
   "execution_count": null,
   "metadata": {},
   "outputs": [],
   "source": [
    "def f_angle_segment(pose, body_part):\n",
    "    \"\"\"Return the angle of a body segment\"\"\"\n",
    "    return angle_to_horizontal(pose[body_part[0]],pose[body_part[1]])"
   ]
  },
  {
   "cell_type": "code",
   "execution_count": null,
   "metadata": {},
   "outputs": [],
   "source": [
    "def f_angle_chunk(pose,body_part_1,body_part_2):\n",
    "    \"\"\"Return the angle of a large body part bounded by 2 segments\"\"\"\n",
    "    mean_vector = ((np.array(pose[body_part_1[0]]) + np.array(pose[body_part_2[0]]))/2,\n",
    "                   (np.array(pose[body_part_1[1]]) + np.array(pose[body_part_2[1]]))/2)\n",
    "    \n",
    "    return angle_to_horizontal(mean_vector[0],mean_vector[1])"
   ]
  },
  {
   "cell_type": "code",
   "execution_count": null,
   "metadata": {},
   "outputs": [],
   "source": [
    "def fcompare_cosine_similarity(pose1, pose2):\n",
    "    return spatial.distance.cosine(np.array(pose1).flatten(),np.array(pose2).flatten())"
   ]
  },
  {
   "cell_type": "code",
   "execution_count": null,
   "metadata": {},
   "outputs": [],
   "source": [
    "df.head()"
   ]
  },
  {
   "cell_type": "code",
   "execution_count": null,
   "metadata": {},
   "outputs": [],
   "source": [
    "def give_n_best_match(input_name, input_df, target_df, fcompare, flist, n=3):\n",
    "    \"\"\"\n",
    "    Give the n best match for input image\n",
    "    \n",
    "    input_df and target_df must have an \"image_name\" and \"poses\" field\n",
    "    \"\"\"\n",
    "    input_pose = input_df.loc[df[\"image_name\"] == input_name][\"norm_poses\"].values[0][0]\n",
    "    \n",
    "    divergences = target_df[\"norm_poses\"].apply(lambda poses: min_divergence(input_pose, poses, fcompare, flist))\n",
    "    \n",
    "    top_indexes = divergences.sort_values(ascending = True).index[:n]\n",
    "    \n",
    "    return target_df.iloc[top_indexes]"
   ]
  },
  {
   "cell_type": "code",
   "execution_count": null,
   "metadata": {},
   "outputs": [],
   "source": [
    "df = df[df.poses.apply(lambda poses: len(poses) > 0)].reset_index()\n",
    "\n",
    "\n",
    "def show_n_best_matchs(input_name,input_df,target_df,fcompare,flist,n=3):\n",
    "\n",
    "    input_row = input_df[input_df[\"image_name\"] == input_name]\n",
    "\n",
    "    results = give_n_best_match(input_name,input_df,target_df,fcompare,flist,n)\n",
    "\n",
    "    print(\"Input\")\n",
    "    input_row.apply(lambda row: show_pictures(row[\"poses\"],row[\"image_name\"], \"images_sample\"), axis = 1)\n",
    "    print(\"Results\")\n",
    "    results.apply(lambda row: show_pictures(row[\"poses\"],row[\"image_name\"], \"images_sample\"), axis = 1)"
   ]
  },
  {
   "cell_type": "code",
   "execution_count": null,
   "metadata": {
    "scrolled": false
   },
   "outputs": [],
   "source": [
    "show_n_best_matchs(\"5037.jpg\",df,df,fcompare_cosine_similarity,[lambda x:x],n=5)"
   ]
  },
  {
   "cell_type": "code",
   "execution_count": null,
   "metadata": {
    "scrolled": false
   },
   "outputs": [],
   "source": [
    "arms_list = [lambda pose : f_angle_segment(pose, LEFT_HUMERUS), lambda pose : f_angle_segment(pose, RIGHT_HUMERUS),\n",
    "            lambda pose : f_angle_segment(pose, LEFT_FOREARM),lambda pose : f_angle_segment(pose, RIGHT_FOREARM)]\n",
    "show_n_best_matchs(\"5037.jpg\",df,df,fcompare_absolute_divergence,arms_list,n=5)"
   ]
  },
  {
   "cell_type": "code",
   "execution_count": null,
   "metadata": {},
   "outputs": [],
   "source": [
    "# A faire:\n",
    "# Introduire une mesure tableau de face ou de profil (ratio longueur du torse Vs largeur)\n",
    "# Introduire des fonctions pour la position de la tête\n",
    "# Introduire des poids pour les différentes fonctions de la liste\n",
    "# Réintroduire une notion de direction dans la mesure de l'angle\n",
    "# (sinon un bras plié dans un sens ou dans l'autre à 180 degré sera compté la même chose !)"
   ]
  },
  {
   "cell_type": "code",
   "execution_count": null,
   "metadata": {},
   "outputs": [],
   "source": []
  }
 ],
 "metadata": {
  "kernelspec": {
   "display_name": "Python 3",
   "language": "python",
   "name": "python3"
  },
  "language_info": {
   "codemirror_mode": {
    "name": "ipython",
    "version": 3
   },
   "file_extension": ".py",
   "mimetype": "text/x-python",
   "name": "python",
   "nbconvert_exporter": "python",
   "pygments_lexer": "ipython3",
   "version": "3.7.4"
  }
 },
 "nbformat": 4,
 "nbformat_minor": 2
}
